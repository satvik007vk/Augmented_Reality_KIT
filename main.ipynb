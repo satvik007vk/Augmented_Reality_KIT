{
 "cells": [
  {
   "metadata": {
    "ExecuteTime": {
     "end_time": "2024-12-01T15:32:32.441539Z",
     "start_time": "2024-12-01T15:32:32.408025Z"
    }
   },
   "cell_type": "code",
   "source": [
    "from dummy_detect import ExperimentDetector\n",
    "from artifact import InfoBoxGenerator\n",
    "\n",
    "# Step 1: Get the marker ID\n",
    "detector = ExperimentDetector()\n",
    "portrait_number = 4 # Give desired input number (1,..4)\n",
    "marker_id = detector.get_marker_id(portrait_number)  \n",
    "print(marker_id)\n",
    "\n",
    "# Step 2: Generate the info box\n",
    "info_box_generator = InfoBoxGenerator()\n",
    "info_box_generator.generate_info_image(marker_id)\n"
   ],
   "id": "94b31ad38ba57a5b",
   "outputs": [
    {
     "name": "stdout",
     "output_type": "stream",
     "text": [
      "ID4\n"
     ]
    }
   ],
   "execution_count": 21
  },
  {
   "metadata": {},
   "cell_type": "code",
   "outputs": [],
   "execution_count": null,
   "source": "",
   "id": "ec506f787dd3e7d4"
  }
 ],
 "metadata": {
  "kernelspec": {
   "display_name": "Python 3",
   "language": "python",
   "name": "python3"
  },
  "language_info": {
   "codemirror_mode": {
    "name": "ipython",
    "version": 2
   },
   "file_extension": ".py",
   "mimetype": "text/x-python",
   "name": "python",
   "nbconvert_exporter": "python",
   "pygments_lexer": "ipython2",
   "version": "2.7.6"
  }
 },
 "nbformat": 4,
 "nbformat_minor": 5
}
