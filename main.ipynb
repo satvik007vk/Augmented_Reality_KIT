{
 "cells": [
  {
   "metadata": {
    "ExecuteTime": {
     "end_time": "2024-12-12T11:19:23.692165Z",
     "start_time": "2024-12-12T11:19:23.652541Z"
    }
   },
   "cell_type": "code",
   "source": [
    "from dummy_detect import ExperimentDetector\n",
    "from artifact import InfoBoxGenerator\n",
    "\n",
    "# Step 1: Get the marker ID\n",
    "detector = ExperimentDetector()\n",
    "portrait_number = 3 # Give desired input number (1..4)\n",
    "marker_id = detector.get_marker_id(portrait_number)  \n",
    "print(f'marker id: {marker_id}')\n",
    "\n",
    "# Step 2: Generate the information artifact\n",
    "info_box_generator = InfoBoxGenerator()\n",
    "info_box_generator.generate_info_image(marker_id)\n"
   ],
   "id": "94b31ad38ba57a5b",
   "outputs": [
    {
     "name": "stdout",
     "output_type": "stream",
     "text": [
      "marker id: ID3\n"
     ]
    }
   ],
   "execution_count": 7
  },
  {
   "metadata": {
    "ExecuteTime": {
     "end_time": "2024-12-12T11:14:57.960202Z",
     "start_time": "2024-12-12T11:14:57.955506Z"
    }
   },
   "cell_type": "code",
   "source": "\n",
   "id": "4d1c6835a863a8a7",
   "outputs": [],
   "execution_count": 5
  }
 ],
 "metadata": {
  "kernelspec": {
   "display_name": "Python 3",
   "language": "python",
   "name": "python3"
  },
  "language_info": {
   "codemirror_mode": {
    "name": "ipython",
    "version": 2
   },
   "file_extension": ".py",
   "mimetype": "text/x-python",
   "name": "python",
   "nbconvert_exporter": "python",
   "pygments_lexer": "ipython2",
   "version": "2.7.6"
  }
 },
 "nbformat": 4,
 "nbformat_minor": 5
}
